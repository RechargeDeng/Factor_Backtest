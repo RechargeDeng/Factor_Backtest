{
 "cells": [
  {
   "cell_type": "code",
   "execution_count": 1,
   "metadata": {},
   "outputs": [],
   "source": [
    "# load packages\n",
    "import pandas as pd\n",
    "import pickle\n",
    "import numpy as np\n",
    "import matplotlib.pyplot as plt\n",
    "from datetime import datetime\n",
    "from tqdm import tqdm \n",
    "from sklearn.metrics import accuracy_score, classification_report\n",
    "from sklearn.metrics import mean_squared_error\n",
    "\n",
    "import os\n",
    "import torch\n",
    "import torch.nn.functional as F\n",
    "from torch.utils import data\n",
    "from torchinfo import summary\n",
    "import torch.nn as nn\n",
    "import torch.optim as optim\n",
    "import warnings\n",
    "import pickle\n",
    "warnings.filterwarnings('ignore')\n",
    "import optuna\n",
    "from optuna import Trial, visualization\n",
    "from optuna.samplers import TPESampler"
   ]
  },
  {
   "cell_type": "code",
   "execution_count": 2,
   "metadata": {},
   "outputs": [
    {
     "name": "stdout",
     "output_type": "stream",
     "text": [
      "cuda:0\n"
     ]
    }
   ],
   "source": [
    "device = torch.device(\"cuda:0\" if torch.cuda.is_available() else \"cpu\")\n",
    "print(device)"
   ]
  },
  {
   "cell_type": "code",
   "execution_count": 27,
   "metadata": {},
   "outputs": [],
   "source": [
    "from model_classification_best_parameter import model_classification_best_parameters\n",
    "from model_classification_optuna import model_optuna_classification\n",
    "from test_classification_0 import test_classification_0\n",
    "from data_processor import data_processor"
   ]
  },
  {
   "cell_type": "markdown",
   "metadata": {},
   "source": [
    "# data_processing（等讨论好具体怎么做，以什么为输入数据再写）"
   ]
  },
  {
   "cell_type": "code",
   "execution_count": 107,
   "metadata": {},
   "outputs": [],
   "source": [
    "model_type = 'MLP'\n",
    "future_time = 0.25\n",
    "T = 100\n",
    "rolling_ratio = 0.5\n",
    "train_ratio = 0.75\n",
    "data_type = 'lob'\n",
    "batch_size = 256\n",
    "normalization_type = 'minmax'\n",
    "num_classes = 3\n",
    "epochs = 100"
   ]
  },
  {
   "cell_type": "code",
   "execution_count": 8,
   "metadata": {},
   "outputs": [],
   "source": [
    "data_input_processor = data_processor(model_type = model_type, future_time = future_time,T = T,rolling_ratio = rolling_ratio, \\\n",
    "                                      train_ratio = train_ratio,data_type = data_type,batch_size = batch_size,normalization_type = normalization_type)\n",
    "dataset_train,dataset_val,dataset_test,train_loader,val_loader,test_loader = data_input_processor.getting_data_input()"
   ]
  },
  {
   "cell_type": "code",
   "execution_count": 5,
   "metadata": {},
   "outputs": [],
   "source": [
    "##比如我们的输入是最近100行的40个feature\n",
    "##对于LSTM、stacked_LSTM、LSTM-MLP，loader里面输入是[样本量,100,40]形式\n",
    "##对于MLP，loader里面的输入是[样本量,4000]形式\n",
    "##对于CNN-LSTM，loader里面的输入是[样本量，1，100，40]形式\n",
    "\n",
    "##输出数据形式都是[样本量,num_classes]"
   ]
  },
  {
   "cell_type": "markdown",
   "metadata": {},
   "source": [
    "# model using optuna to get best parameters"
   ]
  },
  {
   "cell_type": "code",
   "execution_count": 1,
   "metadata": {},
   "outputs": [],
   "source": [
    "model_o = model_optuna_classification(model_type = model_type, epochs = epochs, feature_name = data_type, future_time = future_time,data_train_loader = train_loader,data_val_loader = val_loader,num_classes = num_classes)\n",
    "para_best = model_o.getting_best_para()"
   ]
  },
  {
   "cell_type": "markdown",
   "metadata": {},
   "source": [
    "# model_regression using best parameter"
   ]
  },
  {
   "cell_type": "code",
   "execution_count": 1,
   "metadata": {},
   "outputs": [],
   "source": [
    "##params1改为各个神经网络调好的参数\n",
    "if model_type == 'CNN-LSTM':\n",
    "    params1 = {\n",
    "        'conv_filter_num':32,\n",
    "        'inception_num':64,\n",
    "        'LSTM_num':64,\n",
    "        'leaky_relu_alpha':0.01,\n",
    "        'num_classes':3,\n",
    "          }\n",
    "elif model_type == 'MLP':\n",
    "    params1 = {\n",
    "            'inputsize':4000,\n",
    "            'layer1':400,\n",
    "            'layer2':50,\n",
    "            'layer3':10,\n",
    "         'num_classes':3,\n",
    "                }\n",
    "elif model_type == 'LSTM':\n",
    "    params1 = {\n",
    "            'num_layers':2,\n",
    "            'input_size':40,\n",
    "            'hidden_size':100, \n",
    "         'num_classes':3,\n",
    "                }\n",
    "elif model_type == 'LSTM-MLP':\n",
    "    params1 = {\n",
    "            'num_layers':2,\n",
    "            'input_size':40,\n",
    "            'hidden_size':80,  \n",
    "            'fc_size':20,\n",
    "         'num_classes':3,\n",
    "                } \n",
    "elif model_type == 'stacked_LSTM':\n",
    "    params1 = {\n",
    "            'num_layers_s': 1,\n",
    "            'input_size_s': 40,\n",
    "            'hidden_size_s_1': 80,\n",
    "            'hidden_size_s_2': 150,\n",
    "            'hidden_size_s_3': 200,\n",
    "         'num_classes':3,\n",
    "                }\n",
    "params2 = {\n",
    "    'lr':0.00005,\n",
    "       }\n",
    "model1 = model_classification_best_parameters(model_type = model_type, epochs = epochs, feature_name = data_type, future_time = future_time,data_train_loader = train_loader,data_val_loader = val_loader,para1 = params1,para2 = params2)\n",
    "x,xx = model1.train_model()"
   ]
  },
  {
   "cell_type": "code",
   "execution_count": 2,
   "metadata": {},
   "outputs": [],
   "source": [
    "plt.figure(figsize=(15,6))\n",
    "plt.plot(x[:], label='train loss')\n",
    "plt.plot(xx[:], label='validation loss')\n",
    "plt.legend()"
   ]
  },
  {
   "cell_type": "markdown",
   "metadata": {},
   "source": [
    "# test the model"
   ]
  },
  {
   "cell_type": "code",
   "execution_count": 2,
   "metadata": {},
   "outputs": [],
   "source": [
    "model_test = test_classification_0(model_type = model_type, feature_name = data_type, future_time = future_time,data_train_loader = train_loader,data_val_loader = val_loader,data_test_loader = test_loader)\n",
    "test_result = model_test.test_train()"
   ]
  },
  {
   "cell_type": "code",
   "execution_count": 3,
   "metadata": {},
   "outputs": [],
   "source": [
    "model_test = test_classification_0(model_type = model_type, feature_name = data_type, future_time = future_time,data_train_loader = train_loader,data_val_loader = val_loader,data_test_loader = test_loader)\n",
    "test_result = model_test.test_val()"
   ]
  },
  {
   "cell_type": "code",
   "execution_count": 4,
   "metadata": {},
   "outputs": [],
   "source": [
    "model_test = test_classification_0(model_type = model_type, feature_name = data_type, future_time = future_time,data_train_loader = train_loader,data_val_loader = val_loader,data_test_loader = test_loader)\n",
    "test_result = model_test.test_test()"
   ]
  }
 ],
 "metadata": {
  "kernelspec": {
   "display_name": "Python 3",
   "language": "python",
   "name": "python3"
  },
  "language_info": {
   "codemirror_mode": {
    "name": "ipython",
    "version": 3
   },
   "file_extension": ".py",
   "mimetype": "text/x-python",
   "name": "python",
   "nbconvert_exporter": "python",
   "pygments_lexer": "ipython3",
   "version": "3.8.5"
  }
 },
 "nbformat": 4,
 "nbformat_minor": 5
}
