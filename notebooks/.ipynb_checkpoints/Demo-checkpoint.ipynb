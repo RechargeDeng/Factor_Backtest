{
 "cells": [
  {
   "cell_type": "markdown",
   "id": "ed6dd6a0",
   "metadata": {},
   "source": [
    "# 特征构造与测试\n",
    "\n",
    "本文档将叙述构造高频特征并快速测试的一般流程"
   ]
  },
  {
   "cell_type": "code",
   "execution_count": 1,
   "id": "4863e44b",
   "metadata": {},
   "outputs": [],
   "source": [
    "import numpy as np\n",
    "import pandas as pd\n",
    "import matplotlib.pyplot as plt\n",
    "import importlib\n",
    "import sys\n",
    "\n",
    "# 将你的本地路径添加在下面\n",
    "sys.path.append('C:/Users/HBG/Desktop/Repositories/High-Frequency-Predictor')\n",
    "sys.path.append('C:/Users/Administrator/Desktop/Repositories/High-Frequency-Predictor')\n",
    "\n",
    "from hfp.hfp import HFP"
   ]
  },
  {
   "cell_type": "code",
   "execution_count": 9,
   "id": "d48549fb",
   "metadata": {},
   "outputs": [],
   "source": [
    "import hfp.hfp\n",
    "importlib.reload(hfp.hfp)\n",
    "\n",
    "from hfp.hfp import HFP"
   ]
  },
  {
   "cell_type": "markdown",
   "id": "34572dea",
   "metadata": {},
   "source": [
    "#### 初始化测试器"
   ]
  },
  {
   "cell_type": "code",
   "execution_count": 7,
   "id": "97c70736",
   "metadata": {},
   "outputs": [],
   "source": [
    "data_path = 'D:/Documents/学习资料/HFData'  # 原始数据的路径\n",
    "stock_num = 10  # 同时测试的股票数量。一只股票大约需要1G内存，请根据内存大小与cpu算力自行选择\n",
    "hfp = HFP(data_path=data_path, stock_num=stock_num)"
   ]
  },
  {
   "cell_type": "markdown",
   "id": "75cce4e5",
   "metadata": {},
   "source": [
    "### 快速构造测试特征\n",
    "\n",
    "#### 例子：反转\n",
    "在以下例子中，我们测试了负的过去30s的平均收益率对下一个三秒的中间价收益率的预测力，对于000002来说，时序平均相关系数为0.0632，为正的天数比例为0.8807，这说明高频收益率有较强的反转效应。通过调整shift字段可以查看对未来不同时间跨度的收益率的预测力。"
   ]
  },
  {
   "cell_type": "code",
   "execution_count": 19,
   "id": "68a9893f",
   "metadata": {},
   "outputs": [
    {
     "name": "stdout",
     "output_type": "stream",
     "text": [
      "000002.XSHE mean corr: 0.0632, positive_corr_ratio: 0.8807, corr_IR: 1.2437\n",
      "000009.XSHE mean corr: 0.0985, positive_corr_ratio: 0.9506, corr_IR: 1.8338\n",
      "000012.XSHE mean corr: 0.1222, positive_corr_ratio: 0.9876, corr_IR: 2.5295\n",
      "000016.XSHE mean corr: 0.0698, positive_corr_ratio: 0.8285, corr_IR: 0.9644\n",
      "000019.XSHE mean corr: 0.0528, positive_corr_ratio: 0.8174, corr_IR: 0.7558\n",
      "000021.XSHE mean corr: -0.0045, positive_corr_ratio: 0.5041, corr_IR: -0.0778\n",
      "000031.XSHE mean corr: 0.1435, positive_corr_ratio: 1.0000, corr_IR: 3.9561\n",
      "000034.XSHE mean corr: 0.0049, positive_corr_ratio: 0.5892, corr_IR: 0.0961\n",
      "000061.XSHE mean corr: 0.0835, positive_corr_ratio: 0.8880, corr_IR: 1.3340\n",
      "000063.XSHE mean corr: -0.0552, positive_corr_ratio: 0.2058, corr_IR: -0.7580\n",
      "\n",
      "0.05786547435551289\n"
     ]
    }
   ],
   "source": [
    "fml = 'neg{tsmean{ret,10}}'  # 具体的公式，字段意义详见文档\n",
    "stats = hfp.test_factor(fml, shift=1)  # shift表明对下几个三秒的收益率进行预测\n",
    "print()\n",
    "\n",
    "corr = []\n",
    "for key, value in stats.items():\n",
    "    corr.append(value[0].mean_corr)\n",
    "print(np.mean(corr))"
   ]
  },
  {
   "cell_type": "markdown",
   "id": "f9a5f29f",
   "metadata": {},
   "source": [
    "#### 例子：买卖价差"
   ]
  },
  {
   "cell_type": "code",
   "execution_count": 21,
   "id": "637eece6",
   "metadata": {},
   "outputs": [
    {
     "name": "stdout",
     "output_type": "stream",
     "text": [
      "000002.XSHE mean corr: 0.0359, positive_corr_ratio: 0.9918, corr_IR: 2.1950\n",
      "000009.XSHE mean corr: 0.0548, positive_corr_ratio: 0.9959, corr_IR: 3.1099\n",
      "000012.XSHE mean corr: 0.0574, positive_corr_ratio: 1.0000, corr_IR: 3.6174\n",
      "000016.XSHE mean corr: 0.0578, positive_corr_ratio: 0.9958, corr_IR: 2.6814\n",
      "000019.XSHE mean corr: 0.0528, positive_corr_ratio: 0.9917, corr_IR: 2.3405\n",
      "000021.XSHE mean corr: 0.0286, positive_corr_ratio: 0.9587, corr_IR: 1.6675\n",
      "000031.XSHE mean corr: 0.0605, positive_corr_ratio: 1.0000, corr_IR: 4.0425\n",
      "000034.XSHE mean corr: 0.0331, positive_corr_ratio: 0.9585, corr_IR: 1.6277\n",
      "000061.XSHE mean corr: 0.0555, positive_corr_ratio: 1.0000, corr_IR: 3.5302\n",
      "000063.XSHE mean corr: 0.0216, positive_corr_ratio: 0.8848, corr_IR: 1.2420\n",
      "\n",
      "0.04582037351130905\n"
     ]
    }
   ],
   "source": [
    "fml = 'tsmean{minus{BidSize1,OfferSize1},10}' \n",
    "stats = hfp.test_factor(fml, shift=1)\n",
    "print()\n",
    "corr = []\n",
    "for key, value in stats.items():\n",
    "    corr.append(value[0].mean_corr)\n",
    "print(np.mean(corr))"
   ]
  },
  {
   "cell_type": "markdown",
   "id": "f876fba7",
   "metadata": {},
   "source": [
    "#### 例子2：买卖档相关系数"
   ]
  },
  {
   "cell_type": "code",
   "execution_count": 14,
   "id": "ddf3a7fe",
   "metadata": {},
   "outputs": [
    {
     "name": "stdout",
     "output_type": "stream",
     "text": [
      "000002.XSHE mean corr: 0.0008, positive_corr_ratio: 0.5267, corr_IR: 0.0661\n",
      "000009.XSHE mean corr: 0.0014, positive_corr_ratio: 0.5144, corr_IR: 0.1046\n",
      "000012.XSHE mean corr: -0.0002, positive_corr_ratio: 0.4813, corr_IR: -0.0135\n",
      "000016.XSHE mean corr: -0.0014, positive_corr_ratio: 0.4895, corr_IR: -0.0991\n",
      "000019.XSHE mean corr: -0.0003, positive_corr_ratio: 0.5353, corr_IR: -0.0118\n",
      "000021.XSHE mean corr: -0.0003, positive_corr_ratio: 0.4711, corr_IR: -0.0221\n",
      "000031.XSHE mean corr: 0.0008, positive_corr_ratio: 0.5289, corr_IR: 0.0516\n",
      "000034.XSHE mean corr: 0.0013, positive_corr_ratio: 0.5602, corr_IR: 0.1043\n",
      "000061.XSHE mean corr: 0.0001, positive_corr_ratio: 0.5270, corr_IR: 0.0038\n",
      "000063.XSHE mean corr: 0.0027, positive_corr_ratio: 0.5761, corr_IR: 0.1920\n"
     ]
    }
   ],
   "source": [
    "fml = 'tscorr{BidSize1,OfferSize1,10}' \n",
    "stats = hfp.test_factor(fml, shift=1)"
   ]
  },
  {
   "cell_type": "code",
   "execution_count": null,
   "id": "52322881",
   "metadata": {},
   "outputs": [],
   "source": []
  }
 ],
 "metadata": {
  "kernelspec": {
   "display_name": "Python 3 (ipykernel)",
   "language": "python",
   "name": "python3"
  },
  "language_info": {
   "codemirror_mode": {
    "name": "ipython",
    "version": 3
   },
   "file_extension": ".py",
   "mimetype": "text/x-python",
   "name": "python",
   "nbconvert_exporter": "python",
   "pygments_lexer": "ipython3",
   "version": "3.8.5"
  }
 },
 "nbformat": 4,
 "nbformat_minor": 5
}
