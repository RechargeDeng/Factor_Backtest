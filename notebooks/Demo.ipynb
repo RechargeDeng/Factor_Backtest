{
 "cells": [
  {
   "cell_type": "markdown",
   "id": "ed6dd6a0",
   "metadata": {},
   "source": [
    "# 特征构造与测试\n",
    "\n",
    "本文档将叙述构造中高频特征并快速测试的一般流程"
   ]
  },
  {
   "cell_type": "code",
   "execution_count": 1,
   "id": "4863e44b",
   "metadata": {},
   "outputs": [],
   "source": [
    "import pandas as pd\n",
    "import sys\n",
    "sys.path.append('C:\\\\Users\\\\boyu.deng\\\\Desktop\\\\d1\\\\high_frec\\\\factor_test')\n",
    "from DataLoader.DataLoader import DataLoader\n",
    "from DataProcess.DataProcessor_3 import DataProcessor\n",
    "\n",
    "import numpy as np\n",
    "import pandas as pd\n",
    "import matplotlib.pyplot as plt\n",
    "import importlib\n",
    "import sys\n",
    "\n",
    "# 将你的本地路径添加在下面\n",
    "# sys.path.append('C:/Users/Administrator/Desktop/Repositories/High-Frequency-Predictor')\n",
    "\n",
    "from hfp.hfp import HFP"
   ]
  },
  {
   "cell_type": "code",
   "execution_count": 9,
   "id": "d48549fb",
   "metadata": {},
   "outputs": [],
   "source": [
    "import hfp.hfp\n",
    "importlib.reload(hfp.hfp)\n",
    "\n",
    "from hfp.hfp import HFP"
   ]
  },
  {
   "cell_type": "markdown",
   "id": "34572dea",
   "metadata": {},
   "source": [
    "#### 初始化测试器"
   ]
  },
  {
   "cell_type": "code",
   "execution_count": 2,
   "id": "97c70736",
   "metadata": {},
   "outputs": [],
   "source": [
    "data_path = 'C:\\\\Users\\\\boyu.deng\\\\Desktop\\\\d1\\\\hfrec_data'  # 原始数据的路径\n",
    "stock_num = 1  \n",
    "hfp = HFP(data_path=data_path, stock_num=stock_num, stock_list= ['BTCUSDT'], start_date='2025-01-01', end_date='2025-08-28', interval='1m')"
   ]
  },
  {
   "cell_type": "markdown",
   "id": "75cce4e5",
   "metadata": {},
   "source": [
    "### 快速构造测试特征\n",
    "\n",
    "#### 例子：\n",
    "在以下例子中，我们测试了三个因子表达式的表现。通过调整shift字段可以查看对未来不同时间跨度的收益率的预测力。"
   ]
  },
  {
   "cell_type": "code",
   "execution_count": 6,
   "id": "54991960",
   "metadata": {},
   "outputs": [
    {
     "name": "stderr",
     "output_type": "stream",
     "text": [
      "测试公式进度: 100%|██████████| 3/3 [00:04<00:00,  1.42s/it]\n"
     ]
    },
    {
     "data": {
      "text/html": [
       "<div>\n",
       "<style scoped>\n",
       "    .dataframe tbody tr th:only-of-type {\n",
       "        vertical-align: middle;\n",
       "    }\n",
       "\n",
       "    .dataframe tbody tr th {\n",
       "        vertical-align: top;\n",
       "    }\n",
       "\n",
       "    .dataframe thead th {\n",
       "        text-align: right;\n",
       "    }\n",
       "</style>\n",
       "<table border=\"1\" class=\"dataframe\">\n",
       "  <thead>\n",
       "    <tr style=\"text-align: right;\">\n",
       "      <th></th>\n",
       "      <th>key</th>\n",
       "      <th>formula</th>\n",
       "      <th>mean_corr</th>\n",
       "      <th>positive_corr_ratio</th>\n",
       "      <th>corr_IR</th>\n",
       "    </tr>\n",
       "  </thead>\n",
       "  <tbody>\n",
       "    <tr>\n",
       "      <th>0</th>\n",
       "      <td>BTCUSDT</td>\n",
       "      <td>tscorr{taker_buy_quote_volume,volume_ratio,360}</td>\n",
       "      <td>0.196381</td>\n",
       "      <td>0.750000</td>\n",
       "      <td>0.642298</td>\n",
       "    </tr>\n",
       "    <tr>\n",
       "      <th>1</th>\n",
       "      <td>BTCUSDT</td>\n",
       "      <td>neg{tsfftreal{close,15,10}}</td>\n",
       "      <td>0.064728</td>\n",
       "      <td>0.795833</td>\n",
       "      <td>0.857566</td>\n",
       "    </tr>\n",
       "    <tr>\n",
       "      <th>2</th>\n",
       "      <td>BTCUSDT</td>\n",
       "      <td>tsmean{close,15}</td>\n",
       "      <td>-0.067506</td>\n",
       "      <td>0.204167</td>\n",
       "      <td>-0.876929</td>\n",
       "    </tr>\n",
       "  </tbody>\n",
       "</table>\n",
       "</div>"
      ],
      "text/plain": [
       "       key                                          formula  mean_corr  \\\n",
       "0  BTCUSDT  tscorr{taker_buy_quote_volume,volume_ratio,360}   0.196381   \n",
       "1  BTCUSDT                      neg{tsfftreal{close,15,10}}   0.064728   \n",
       "2  BTCUSDT                                 tsmean{close,15}  -0.067506   \n",
       "\n",
       "   positive_corr_ratio   corr_IR  \n",
       "0             0.750000  0.642298  \n",
       "1             0.795833  0.857566  \n",
       "2             0.204167 -0.876929  "
      ]
     },
     "execution_count": 6,
     "metadata": {},
     "output_type": "execute_result"
    }
   ],
   "source": [
    "from numpy import empty\n",
    "from tqdm import tqdm\n",
    "\n",
    "fml_list = ['tscorr{taker_buy_quote_volume,volume_ratio,360}','neg{tsfftreal{close,15,10}}','tsmean{close,15}']\n",
    "factor_stats = {name:[] for name in ['key', 'formula', 'mean_corr','positive_corr_ratio','corr_IR']}\n",
    "combined_signal_df = pd.DataFrame()\n",
    "\n",
    "for fml in tqdm(fml_list[:], desc=\"测试公式进度\"):\n",
    "    try:\n",
    "        stats, signal_df, corr = hfp.test_factor(fml,verbose=False, shift=0, start = 10, end = 1400)  # shift表明对下几个interval的收益率进行预测\n",
    "    except Exception as e:\n",
    "        print(e)\n",
    "        continue\n",
    "    #print(corr.shape)\n",
    "    for key, value in stats.items():\n",
    "        factor_stats['key'].append(key)\n",
    "        factor_stats['formula'].append(fml)\n",
    "        factor_stats['mean_corr'].append(value[0].mean_corr)\n",
    "        factor_stats['positive_corr_ratio'].append(value[0].positive_corr_ratio)\n",
    "        factor_stats['corr_IR'].append(value[0].corr_IR)\n",
    "factor_df = pd.DataFrame(factor_stats)\n",
    "factor_df"
   ]
  },
  {
   "cell_type": "code",
   "execution_count": null,
   "id": "52322881",
   "metadata": {},
   "outputs": [],
   "source": []
  }
 ],
 "metadata": {
  "kernelspec": {
   "display_name": "trader",
   "language": "python",
   "name": "python3"
  },
  "language_info": {
   "codemirror_mode": {
    "name": "ipython",
    "version": 3
   },
   "file_extension": ".py",
   "mimetype": "text/x-python",
   "name": "python",
   "nbconvert_exporter": "python",
   "pygments_lexer": "ipython3",
   "version": "3.11.13"
  }
 },
 "nbformat": 4,
 "nbformat_minor": 5
}
